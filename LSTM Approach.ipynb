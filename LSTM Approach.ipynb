{
 "cells": [
  {
   "cell_type": "code",
   "execution_count": 1,
   "metadata": {},
   "outputs": [],
   "source": [
    "import re\n",
    "import pandas as pd \n",
    "import numpy as np \n",
    "import matplotlib.pyplot as plt \n",
    "import seaborn as sns\n",
    "import string\n",
    "#from wordcloud import WordCloud\n",
    "import nltk\n",
    "\n",
    "from nltk.stem.porter import *\n",
    "from nltk.corpus import stopwords\n",
    "from sklearn.feature_extraction.text import TfidfVectorizer, CountVectorizer\n",
    "from sklearn.model_selection import train_test_split as tts\n",
    "\n",
    "from sklearn.model_selection import StratifiedKFold as SKF\n",
    "\n",
    "import numpy\n",
    "from keras.datasets import imdb\n",
    "from keras.models import Sequential\n",
    "from keras.layers import Dense, LSTM\n",
    "from keras.layers.embeddings import Embedding\n",
    "from keras.preprocessing import sequence\n",
    "\n",
    "numpy.random.seed(7)\n",
    "\n",
    "import tweepy as tp\n",
    "import twitter_credentials as tc"
   ]
  },
  {
   "cell_type": "code",
   "execution_count": 2,
   "metadata": {},
   "outputs": [],
   "source": [
    "train1 = pd.read_csv('train_E6oV3lV.csv').drop(['id'], axis = 1)"
   ]
  },
  {
   "cell_type": "code",
   "execution_count": 3,
   "metadata": {},
   "outputs": [
    {
     "data": {
      "text/plain": [
       "(31962, 2)"
      ]
     },
     "execution_count": 3,
     "metadata": {},
     "output_type": "execute_result"
    }
   ],
   "source": [
    "combi = train1\n",
    "combi.shape"
   ]
  },
  {
   "cell_type": "code",
   "execution_count": 4,
   "metadata": {},
   "outputs": [
    {
     "data": {
      "text/plain": [
       "(31962, 2)"
      ]
     },
     "execution_count": 4,
     "metadata": {},
     "output_type": "execute_result"
    }
   ],
   "source": [
    "combi.drop_duplicates(subset = ['tweet'])\n",
    "combi.shape"
   ]
  },
  {
   "cell_type": "code",
   "execution_count": 5,
   "metadata": {},
   "outputs": [],
   "source": [
    "def remove_pattern(input_txt, pattern):\n",
    "    r = re.findall(pattern, input_txt)\n",
    "    for i in r:\n",
    "        input_txt = re.sub(i, '', input_txt)\n",
    "        \n",
    "    return input_txt  "
   ]
  },
  {
   "cell_type": "code",
   "execution_count": 6,
   "metadata": {},
   "outputs": [],
   "source": [
    "combi['clean'] = np.vectorize(remove_pattern)(combi['tweet'], \"@[\\w]*\") #removing users\n",
    "combi['clean'] = combi['clean'].str.replace(\"[^a-zA-Z#]\", \" \") #obtaining only words and hashtags\n",
    "combi['clean'] = combi['clean'].apply(lambda x: ' '.join([w for w in x.split() if len(w)>3])) #removing shortwords"
   ]
  },
  {
   "cell_type": "code",
   "execution_count": 7,
   "metadata": {},
   "outputs": [
    {
     "data": {
      "text/plain": [
       "0    [when, father, dysfunctional, selfish, drags, ...\n",
       "1    [thanks, #lyft, credit, cause, they, offer, wh...\n",
       "2                              [bihday, your, majesty]\n",
       "3                     [#model, love, take, with, time]\n",
       "4                   [factsguide, society, #motivation]\n",
       "Name: clean, dtype: object"
      ]
     },
     "execution_count": 7,
     "metadata": {},
     "output_type": "execute_result"
    }
   ],
   "source": [
    "tokenized_tweet = combi['clean'].apply(lambda x: x.split())\n",
    "tokenized_tweet.head()"
   ]
  },
  {
   "cell_type": "code",
   "execution_count": 8,
   "metadata": {},
   "outputs": [
    {
     "data": {
      "text/plain": [
       "0    [father, dysfunct, selfish, drag, kid, dysfunc...\n",
       "1    [thank, #lyft, credit, caus, offer, wheelchair...\n",
       "2                                    [bihday, majesti]\n",
       "3                           [#model, love, take, time]\n",
       "4                         [factsguid, societi, #motiv]\n",
       "Name: clean, dtype: object"
      ]
     },
     "execution_count": 8,
     "metadata": {},
     "output_type": "execute_result"
    }
   ],
   "source": [
    "stopw = set(stopwords.words('english'))\n",
    "\n",
    "for i in range(tokenized_tweet.shape[0]):\n",
    "    tokenized_tweet[i] = [w for w in tokenized_tweet[i] if w not in stopw]\n",
    "\n",
    "stemmer = PorterStemmer()\n",
    "\n",
    "tokenized_tweet = tokenized_tweet.apply(lambda x: [stemmer.stem(i) for i in x]) # stemming\n",
    "tokenized_tweet.head()"
   ]
  },
  {
   "cell_type": "code",
   "execution_count": 9,
   "metadata": {},
   "outputs": [],
   "source": [
    "for i in range(len(tokenized_tweet)):\n",
    "    tokenized_tweet[i] = ' '.join(tokenized_tweet[i])\n",
    "\n",
    "combi['clean'] = tokenized_tweet"
   ]
  },
  {
   "cell_type": "code",
   "execution_count": 10,
   "metadata": {},
   "outputs": [],
   "source": [
    "tfidf_vectorizer = TfidfVectorizer()\n",
    "tfidf = tfidf_vectorizer.fit_transform(combi['clean']).toarray()\n",
    "\n",
    "X = tfidf\n",
    "Y = combi['label']\n",
    "\n",
    "#train_tfidf = tfidf#[:trainSize,:]\n",
    "#test_tfidf = tfidf[trainSize:,:]\n",
    "\n",
    "#xtrain, xtest, ytrain, ytest = tts(train_tfidf, combi['label'], random_state = 42, test_size = 0.4)"
   ]
  },
  {
   "cell_type": "code",
   "execution_count": 11,
   "metadata": {},
   "outputs": [],
   "source": [
    "ngram_vect = CountVectorizer(ngram_range = (2,2))\n",
    "ngram = ngram_vect.fit_transform(combi['clean']).toarray()"
   ]
  },
  {
   "cell_type": "code",
   "execution_count": 12,
   "metadata": {},
   "outputs": [],
   "source": [
    "max_review_length = 500\n",
    "#xtrain = sequence.pad_sequences(xtrain, maxlen=max_review_length)\n",
    "#xtest = sequence.pad_sequences(xtest, maxlen=max_review_length)"
   ]
  },
  {
   "cell_type": "code",
   "execution_count": null,
   "metadata": {},
   "outputs": [
    {
     "name": "stdout",
     "output_type": "stream",
     "text": [
      "Model: \"sequential\"\n",
      "_________________________________________________________________\n",
      "Layer (type)                 Output Shape              Param #   \n",
      "=================================================================\n",
      "embedding (Embedding)        (None, 500, 32)           160000    \n",
      "_________________________________________________________________\n",
      "lstm (LSTM)                  (None, 200)               186400    \n",
      "_________________________________________________________________\n",
      "dense (Dense)                (None, 1)                 201       \n",
      "=================================================================\n",
      "Total params: 346,601\n",
      "Trainable params: 346,601\n",
      "Non-trainable params: 0\n",
      "_________________________________________________________________\n",
      "None\n",
      "Epoch 1/5\n",
      "350/350 [==============================] - 46s 106ms/step - loss: 0.2962 - accuracy: 0.9119 - val_loss: 0.2602 - val_accuracy: 0.9287\n",
      "Epoch 2/5\n",
      "350/350 [==============================] - 34s 98ms/step - loss: 0.2530 - accuracy: 0.9308 - val_loss: 0.2576 - val_accuracy: 0.9287\n",
      "Epoch 3/5\n",
      "350/350 [==============================] - 34s 98ms/step - loss: 0.2558 - accuracy: 0.9294 - val_loss: 0.2583 - val_accuracy: 0.9287\n",
      "Epoch 4/5\n",
      "350/350 [==============================] - ETA: 0s - loss: 0.2472 - accuracy: 0.9326"
     ]
    }
   ],
   "source": [
    "top_words = 5000\n",
    "embeddingVectorLength = 32\n",
    "\n",
    "#This is for TFIDF\n",
    "\n",
    "xtrain, xtest, ytrain, ytest = tts(X, Y, random_state = 42, test_size = 0.3)\n",
    "xtrain = sequence.pad_sequences(xtrain, maxlen = max_review_length)\n",
    "xtest = sequence.pad_sequences(xtest, maxlen = max_review_length)\n",
    "\n",
    "model = Sequential()\n",
    "model.add(Embedding(top_words, embeddingVectorLength, input_length = max_review_length))\n",
    "model.add(LSTM(200))\n",
    "model.add(Dense(1, activation = 'sigmoid'))\n",
    "model.compile(loss = 'binary_crossentropy', optimizer = 'adam', metrics = ['accuracy'])\n",
    "print(model.summary())\n",
    "model.fit(xtrain, ytrain, validation_data = (xtest, ytest), epochs = 5, batch_size = 64)\n",
    "\n",
    "print(model.evaluate(xtest, ytest,  verbose = 0)[1]*100)"
   ]
  },
  {
   "cell_type": "code",
   "execution_count": null,
   "metadata": {},
   "outputs": [],
   "source": [
    "X = ngram\n",
    "Y = combi['label']\n",
    "\n",
    "xtrain, xtest, ytrain, ytest = tts(X, Y, random_state = 42, test_size = 0.3)\n",
    "xtrain = sequence.pad_sequences(xtrain, maxlen = max_review_length)\n",
    "xtest = sequence.pad_sequences(xtest, maxlen = max_review_length)\n",
    "\n",
    "model = Sequential()\n",
    "model.add(Embedding(top_words, embeddingVectorLength, input_length = max_review_length))\n",
    "model.add(LSTM(200))\n",
    "model.add(Dense(1, activation = 'sigmoid'))\n",
    "model.compile(loss = 'binary_crossentropy', optimizer = 'adam', metrics = ['accuracy'])\n",
    "print(model.summary())\n",
    "model.fit(xtrain, ytrain, validation_data = (xtest, ytest), epochs = 5, batch_size = 64)\n",
    "\n",
    "print(model.evaluate(xtest, ytest,  verbose = 0)[1]*100)"
   ]
  },
  {
   "cell_type": "code",
   "execution_count": null,
   "metadata": {},
   "outputs": [],
   "source": [
    "auth = tp.OAuthHandler(tc.consumerKey, tc.consumerSecret)\n",
    "auth.set_access_token(tc.accessToken, tc.accessTokenSecret)\n",
    "api = tp.API(auth)"
   ]
  },
  {
   "cell_type": "code",
   "execution_count": null,
   "metadata": {},
   "outputs": [],
   "source": [
    "tweets = api.home_timeline()\n",
    "\n",
    "for tweet in tweets:\n",
    "    print(tweet.text)\n",
    "    print()"
   ]
  },
  {
   "cell_type": "code",
   "execution_count": null,
   "metadata": {},
   "outputs": [],
   "source": [
    "text = tweets[0].text"
   ]
  },
  {
   "cell_type": "code",
   "execution_count": null,
   "metadata": {},
   "outputs": [],
   "source": [
    "text = re.sub(r'http\\S+', '', text)"
   ]
  },
  {
   "cell_type": "code",
   "execution_count": null,
   "metadata": {},
   "outputs": [],
   "source": []
  },
  {
   "cell_type": "code",
   "execution_count": null,
   "metadata": {},
   "outputs": [],
   "source": []
  }
 ],
 "metadata": {
  "kernelspec": {
   "display_name": "Python 3",
   "language": "python",
   "name": "python3"
  },
  "language_info": {
   "codemirror_mode": {
    "name": "ipython",
    "version": 3
   },
   "file_extension": ".py",
   "mimetype": "text/x-python",
   "name": "python",
   "nbconvert_exporter": "python",
   "pygments_lexer": "ipython3",
   "version": "3.8.5"
  }
 },
 "nbformat": 4,
 "nbformat_minor": 4
}
